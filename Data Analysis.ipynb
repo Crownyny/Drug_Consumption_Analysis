{
 "cells": [
  {
   "cell_type": "markdown",
   "metadata": {},
   "source": [
    "# Analisis de datos sobre consumo de sustancias psicoactivas"
   ]
  },
  {
   "cell_type": "markdown",
   "metadata": {},
   "source": [
    "*import's* generales <br>Proyect hecho en Python 3.12.7"
   ]
  },
  {
   "cell_type": "code",
   "execution_count": 1,
   "metadata": {},
   "outputs": [],
   "source": [
    "import pandas as pd\n",
    "pd.set_option('future.no_silent_downcasting', True)"
   ]
  },
  {
   "cell_type": "markdown",
   "metadata": {},
   "source": [
    "Obtener los datos correspondientes"
   ]
  },
  {
   "cell_type": "code",
   "execution_count": 2,
   "metadata": {},
   "outputs": [
    {
     "data": {
      "text/html": [
       "<div>\n",
       "<style scoped>\n",
       "    .dataframe tbody tr th:only-of-type {\n",
       "        vertical-align: middle;\n",
       "    }\n",
       "\n",
       "    .dataframe tbody tr th {\n",
       "        vertical-align: top;\n",
       "    }\n",
       "\n",
       "    .dataframe thead th {\n",
       "        text-align: right;\n",
       "    }\n",
       "</style>\n",
       "<table border=\"1\" class=\"dataframe\">\n",
       "  <thead>\n",
       "    <tr style=\"text-align: right;\">\n",
       "      <th></th>\n",
       "      <th>Age</th>\n",
       "      <th>Gender</th>\n",
       "      <th>Education</th>\n",
       "      <th>Country</th>\n",
       "      <th>Ethnicity</th>\n",
       "      <th>Nscore</th>\n",
       "      <th>Escore</th>\n",
       "      <th>Oscore</th>\n",
       "      <th>Ascore</th>\n",
       "      <th>Cscore</th>\n",
       "      <th>...</th>\n",
       "      <th>Ecstasy</th>\n",
       "      <th>Heroin</th>\n",
       "      <th>Ketamine</th>\n",
       "      <th>Legalh</th>\n",
       "      <th>LSD</th>\n",
       "      <th>Meth</th>\n",
       "      <th>Mushrooms</th>\n",
       "      <th>Nicotine</th>\n",
       "      <th>Semer</th>\n",
       "      <th>VSA</th>\n",
       "    </tr>\n",
       "  </thead>\n",
       "  <tbody>\n",
       "    <tr>\n",
       "      <th>0</th>\n",
       "      <td>0.49788</td>\n",
       "      <td>0.48246</td>\n",
       "      <td>-0.05921</td>\n",
       "      <td>0.96082</td>\n",
       "      <td>0.12600</td>\n",
       "      <td>0.31287</td>\n",
       "      <td>-0.57545</td>\n",
       "      <td>-0.58331</td>\n",
       "      <td>-0.91699</td>\n",
       "      <td>-0.00665</td>\n",
       "      <td>...</td>\n",
       "      <td>CL0</td>\n",
       "      <td>CL0</td>\n",
       "      <td>CL0</td>\n",
       "      <td>CL0</td>\n",
       "      <td>CL0</td>\n",
       "      <td>CL0</td>\n",
       "      <td>CL0</td>\n",
       "      <td>CL2</td>\n",
       "      <td>CL0</td>\n",
       "      <td>CL0</td>\n",
       "    </tr>\n",
       "    <tr>\n",
       "      <th>1</th>\n",
       "      <td>-0.07854</td>\n",
       "      <td>-0.48246</td>\n",
       "      <td>1.98437</td>\n",
       "      <td>0.96082</td>\n",
       "      <td>-0.31685</td>\n",
       "      <td>-0.67825</td>\n",
       "      <td>1.93886</td>\n",
       "      <td>1.43533</td>\n",
       "      <td>0.76096</td>\n",
       "      <td>-0.14277</td>\n",
       "      <td>...</td>\n",
       "      <td>CL4</td>\n",
       "      <td>CL0</td>\n",
       "      <td>CL2</td>\n",
       "      <td>CL0</td>\n",
       "      <td>CL2</td>\n",
       "      <td>CL3</td>\n",
       "      <td>CL0</td>\n",
       "      <td>CL4</td>\n",
       "      <td>CL0</td>\n",
       "      <td>CL0</td>\n",
       "    </tr>\n",
       "    <tr>\n",
       "      <th>2</th>\n",
       "      <td>0.49788</td>\n",
       "      <td>-0.48246</td>\n",
       "      <td>-0.05921</td>\n",
       "      <td>0.96082</td>\n",
       "      <td>-0.31685</td>\n",
       "      <td>-0.46725</td>\n",
       "      <td>0.80523</td>\n",
       "      <td>-0.84732</td>\n",
       "      <td>-1.62090</td>\n",
       "      <td>-1.01450</td>\n",
       "      <td>...</td>\n",
       "      <td>CL0</td>\n",
       "      <td>CL0</td>\n",
       "      <td>CL0</td>\n",
       "      <td>CL0</td>\n",
       "      <td>CL0</td>\n",
       "      <td>CL0</td>\n",
       "      <td>CL1</td>\n",
       "      <td>CL0</td>\n",
       "      <td>CL0</td>\n",
       "      <td>CL0</td>\n",
       "    </tr>\n",
       "    <tr>\n",
       "      <th>3</th>\n",
       "      <td>-0.95197</td>\n",
       "      <td>0.48246</td>\n",
       "      <td>1.16365</td>\n",
       "      <td>0.96082</td>\n",
       "      <td>-0.31685</td>\n",
       "      <td>-0.14882</td>\n",
       "      <td>-0.80615</td>\n",
       "      <td>-0.01928</td>\n",
       "      <td>0.59042</td>\n",
       "      <td>0.58489</td>\n",
       "      <td>...</td>\n",
       "      <td>CL0</td>\n",
       "      <td>CL0</td>\n",
       "      <td>CL2</td>\n",
       "      <td>CL0</td>\n",
       "      <td>CL0</td>\n",
       "      <td>CL0</td>\n",
       "      <td>CL0</td>\n",
       "      <td>CL2</td>\n",
       "      <td>CL0</td>\n",
       "      <td>CL0</td>\n",
       "    </tr>\n",
       "    <tr>\n",
       "      <th>4</th>\n",
       "      <td>0.49788</td>\n",
       "      <td>0.48246</td>\n",
       "      <td>1.98437</td>\n",
       "      <td>0.96082</td>\n",
       "      <td>-0.31685</td>\n",
       "      <td>0.73545</td>\n",
       "      <td>-1.63340</td>\n",
       "      <td>-0.45174</td>\n",
       "      <td>-0.30172</td>\n",
       "      <td>1.30612</td>\n",
       "      <td>...</td>\n",
       "      <td>CL1</td>\n",
       "      <td>CL0</td>\n",
       "      <td>CL0</td>\n",
       "      <td>CL1</td>\n",
       "      <td>CL0</td>\n",
       "      <td>CL0</td>\n",
       "      <td>CL2</td>\n",
       "      <td>CL2</td>\n",
       "      <td>CL0</td>\n",
       "      <td>CL0</td>\n",
       "    </tr>\n",
       "  </tbody>\n",
       "</table>\n",
       "<p>5 rows × 31 columns</p>\n",
       "</div>"
      ],
      "text/plain": [
       "       Age   Gender  Education  Country  Ethnicity   Nscore   Escore   Oscore  \\\n",
       "0  0.49788  0.48246   -0.05921  0.96082    0.12600  0.31287 -0.57545 -0.58331   \n",
       "1 -0.07854 -0.48246    1.98437  0.96082   -0.31685 -0.67825  1.93886  1.43533   \n",
       "2  0.49788 -0.48246   -0.05921  0.96082   -0.31685 -0.46725  0.80523 -0.84732   \n",
       "3 -0.95197  0.48246    1.16365  0.96082   -0.31685 -0.14882 -0.80615 -0.01928   \n",
       "4  0.49788  0.48246    1.98437  0.96082   -0.31685  0.73545 -1.63340 -0.45174   \n",
       "\n",
       "    Ascore   Cscore  ...  Ecstasy  Heroin Ketamine Legalh  LSD Meth Mushrooms  \\\n",
       "0 -0.91699 -0.00665  ...      CL0     CL0      CL0    CL0  CL0  CL0       CL0   \n",
       "1  0.76096 -0.14277  ...      CL4     CL0      CL2    CL0  CL2  CL3       CL0   \n",
       "2 -1.62090 -1.01450  ...      CL0     CL0      CL0    CL0  CL0  CL0       CL1   \n",
       "3  0.59042  0.58489  ...      CL0     CL0      CL2    CL0  CL0  CL0       CL0   \n",
       "4 -0.30172  1.30612  ...      CL1     CL0      CL0    CL1  CL0  CL0       CL2   \n",
       "\n",
       "  Nicotine Semer  VSA  \n",
       "0      CL2   CL0  CL0  \n",
       "1      CL4   CL0  CL0  \n",
       "2      CL0   CL0  CL0  \n",
       "3      CL2   CL0  CL0  \n",
       "4      CL2   CL0  CL0  \n",
       "\n",
       "[5 rows x 31 columns]"
      ]
     },
     "execution_count": 2,
     "metadata": {},
     "output_type": "execute_result"
    }
   ],
   "source": [
    "dconsum = pd.read_csv(\"drug_consumption.csv\")\n",
    "dconsum.drop(\"ID\", axis = 1, inplace = True)\n",
    "dconsum.head()"
   ]
  },
  {
   "cell_type": "markdown",
   "metadata": {},
   "source": [
    "Cuantificar categorias relacionadas al consumo de sustancias, dejando simplemente el digito\n",
    "```Value\tDescription\n",
    "CL0\tNever Used\n",
    "CL1\tUsed over a Decade Ago\n",
    "CL2\tUsed in Last Decade\n",
    "CL3\tUsed in Last Year\n",
    "CL4\tUsed in Last Month\n",
    "CL5\tUsed in Last Week\n",
    "CL6\tUsed in Last Day```"
   ]
  },
  {
   "cell_type": "code",
   "execution_count": 3,
   "metadata": {},
   "outputs": [
    {
     "data": {
      "text/html": [
       "<div>\n",
       "<style scoped>\n",
       "    .dataframe tbody tr th:only-of-type {\n",
       "        vertical-align: middle;\n",
       "    }\n",
       "\n",
       "    .dataframe tbody tr th {\n",
       "        vertical-align: top;\n",
       "    }\n",
       "\n",
       "    .dataframe thead th {\n",
       "        text-align: right;\n",
       "    }\n",
       "</style>\n",
       "<table border=\"1\" class=\"dataframe\">\n",
       "  <thead>\n",
       "    <tr style=\"text-align: right;\">\n",
       "      <th></th>\n",
       "      <th>Age</th>\n",
       "      <th>Gender</th>\n",
       "      <th>Education</th>\n",
       "      <th>Country</th>\n",
       "      <th>Ethnicity</th>\n",
       "      <th>Nscore</th>\n",
       "      <th>Escore</th>\n",
       "      <th>Oscore</th>\n",
       "      <th>Ascore</th>\n",
       "      <th>Cscore</th>\n",
       "      <th>...</th>\n",
       "      <th>Ecstasy</th>\n",
       "      <th>Heroin</th>\n",
       "      <th>Ketamine</th>\n",
       "      <th>Legalh</th>\n",
       "      <th>LSD</th>\n",
       "      <th>Meth</th>\n",
       "      <th>Mushrooms</th>\n",
       "      <th>Nicotine</th>\n",
       "      <th>Semer</th>\n",
       "      <th>VSA</th>\n",
       "    </tr>\n",
       "  </thead>\n",
       "  <tbody>\n",
       "    <tr>\n",
       "      <th>0</th>\n",
       "      <td>0.49788</td>\n",
       "      <td>0.48246</td>\n",
       "      <td>-0.05921</td>\n",
       "      <td>0.96082</td>\n",
       "      <td>0.12600</td>\n",
       "      <td>0.31287</td>\n",
       "      <td>-0.57545</td>\n",
       "      <td>-0.58331</td>\n",
       "      <td>-0.91699</td>\n",
       "      <td>-0.00665</td>\n",
       "      <td>...</td>\n",
       "      <td>0</td>\n",
       "      <td>0</td>\n",
       "      <td>0</td>\n",
       "      <td>0</td>\n",
       "      <td>0</td>\n",
       "      <td>0</td>\n",
       "      <td>0</td>\n",
       "      <td>2</td>\n",
       "      <td>0</td>\n",
       "      <td>0</td>\n",
       "    </tr>\n",
       "    <tr>\n",
       "      <th>1</th>\n",
       "      <td>-0.07854</td>\n",
       "      <td>-0.48246</td>\n",
       "      <td>1.98437</td>\n",
       "      <td>0.96082</td>\n",
       "      <td>-0.31685</td>\n",
       "      <td>-0.67825</td>\n",
       "      <td>1.93886</td>\n",
       "      <td>1.43533</td>\n",
       "      <td>0.76096</td>\n",
       "      <td>-0.14277</td>\n",
       "      <td>...</td>\n",
       "      <td>4</td>\n",
       "      <td>0</td>\n",
       "      <td>2</td>\n",
       "      <td>0</td>\n",
       "      <td>2</td>\n",
       "      <td>3</td>\n",
       "      <td>0</td>\n",
       "      <td>4</td>\n",
       "      <td>0</td>\n",
       "      <td>0</td>\n",
       "    </tr>\n",
       "    <tr>\n",
       "      <th>2</th>\n",
       "      <td>0.49788</td>\n",
       "      <td>-0.48246</td>\n",
       "      <td>-0.05921</td>\n",
       "      <td>0.96082</td>\n",
       "      <td>-0.31685</td>\n",
       "      <td>-0.46725</td>\n",
       "      <td>0.80523</td>\n",
       "      <td>-0.84732</td>\n",
       "      <td>-1.62090</td>\n",
       "      <td>-1.01450</td>\n",
       "      <td>...</td>\n",
       "      <td>0</td>\n",
       "      <td>0</td>\n",
       "      <td>0</td>\n",
       "      <td>0</td>\n",
       "      <td>0</td>\n",
       "      <td>0</td>\n",
       "      <td>1</td>\n",
       "      <td>0</td>\n",
       "      <td>0</td>\n",
       "      <td>0</td>\n",
       "    </tr>\n",
       "    <tr>\n",
       "      <th>3</th>\n",
       "      <td>-0.95197</td>\n",
       "      <td>0.48246</td>\n",
       "      <td>1.16365</td>\n",
       "      <td>0.96082</td>\n",
       "      <td>-0.31685</td>\n",
       "      <td>-0.14882</td>\n",
       "      <td>-0.80615</td>\n",
       "      <td>-0.01928</td>\n",
       "      <td>0.59042</td>\n",
       "      <td>0.58489</td>\n",
       "      <td>...</td>\n",
       "      <td>0</td>\n",
       "      <td>0</td>\n",
       "      <td>2</td>\n",
       "      <td>0</td>\n",
       "      <td>0</td>\n",
       "      <td>0</td>\n",
       "      <td>0</td>\n",
       "      <td>2</td>\n",
       "      <td>0</td>\n",
       "      <td>0</td>\n",
       "    </tr>\n",
       "    <tr>\n",
       "      <th>4</th>\n",
       "      <td>0.49788</td>\n",
       "      <td>0.48246</td>\n",
       "      <td>1.98437</td>\n",
       "      <td>0.96082</td>\n",
       "      <td>-0.31685</td>\n",
       "      <td>0.73545</td>\n",
       "      <td>-1.63340</td>\n",
       "      <td>-0.45174</td>\n",
       "      <td>-0.30172</td>\n",
       "      <td>1.30612</td>\n",
       "      <td>...</td>\n",
       "      <td>1</td>\n",
       "      <td>0</td>\n",
       "      <td>0</td>\n",
       "      <td>1</td>\n",
       "      <td>0</td>\n",
       "      <td>0</td>\n",
       "      <td>2</td>\n",
       "      <td>2</td>\n",
       "      <td>0</td>\n",
       "      <td>0</td>\n",
       "    </tr>\n",
       "  </tbody>\n",
       "</table>\n",
       "<p>5 rows × 31 columns</p>\n",
       "</div>"
      ],
      "text/plain": [
       "       Age   Gender  Education  Country  Ethnicity   Nscore   Escore   Oscore  \\\n",
       "0  0.49788  0.48246   -0.05921  0.96082    0.12600  0.31287 -0.57545 -0.58331   \n",
       "1 -0.07854 -0.48246    1.98437  0.96082   -0.31685 -0.67825  1.93886  1.43533   \n",
       "2  0.49788 -0.48246   -0.05921  0.96082   -0.31685 -0.46725  0.80523 -0.84732   \n",
       "3 -0.95197  0.48246    1.16365  0.96082   -0.31685 -0.14882 -0.80615 -0.01928   \n",
       "4  0.49788  0.48246    1.98437  0.96082   -0.31685  0.73545 -1.63340 -0.45174   \n",
       "\n",
       "    Ascore   Cscore  ...  Ecstasy  Heroin Ketamine Legalh LSD Meth Mushrooms  \\\n",
       "0 -0.91699 -0.00665  ...        0       0        0      0   0    0         0   \n",
       "1  0.76096 -0.14277  ...        4       0        2      0   2    3         0   \n",
       "2 -1.62090 -1.01450  ...        0       0        0      0   0    0         1   \n",
       "3  0.59042  0.58489  ...        0       0        2      0   0    0         0   \n",
       "4 -0.30172  1.30612  ...        1       0        0      1   0    0         2   \n",
       "\n",
       "  Nicotine Semer VSA  \n",
       "0        2     0   0  \n",
       "1        4     0   0  \n",
       "2        0     0   0  \n",
       "3        2     0   0  \n",
       "4        2     0   0  \n",
       "\n",
       "[5 rows x 31 columns]"
      ]
     },
     "execution_count": 3,
     "metadata": {},
     "output_type": "execute_result"
    }
   ],
   "source": [
    "quant_cat = {\n",
    "    'CL0': 0,\n",
    "    'CL1': 1,\n",
    "    'CL2': 2,\n",
    "    'CL3': 3,\n",
    "    'CL4': 4,\n",
    "    'CL5': 5,\n",
    "    'CL6': 6,\n",
    "}\n",
    "\n",
    "dconsum.iloc[:,12:] = dconsum.iloc[:,12:].replace(quant_cat) \n",
    "dconsum.head()"
   ]
  },
  {
   "cell_type": "markdown",
   "metadata": {},
   "source": [
    "Obtenemos la columna realcionada con sustancias mas balanceada (tiene una cantidad similar de consumidores y no consumidores *CL0* )"
   ]
  },
  {
   "cell_type": "code",
   "execution_count": 4,
   "metadata": {},
   "outputs": [
    {
     "name": "stdout",
     "output_type": "stream",
     "text": [
      "La sustancia con mayor balance entre consumidores y no consumidores es Amphet\n"
     ]
    }
   ],
   "source": [
    "def balanced_col(df, value):\n",
    "    percentages = {} # Disctionary with percentages for each column\n",
    "    \n",
    "    #Precentage for each column\n",
    "    for column in df.columns:\n",
    "        count = df[column].eq(value).sum()\n",
    "        total = len(df[column])\n",
    "        precentage = (count/total) * 100\n",
    "        percentages[column] = precentage #Store the result in the dictionary\n",
    "\n",
    "    # Find the column with percentage closest to 50%\n",
    "    closest_column = min(percentages, key=lambda x: abs(percentages[x] - 50))\n",
    "    \n",
    "    return percentages, closest_column\n",
    "\n",
    "percentages, closest_column = balanced_col(dconsum.iloc[:,12:], 0)\n",
    "print(\"La sustancia con mayor balance entre consumidores y no consumidores es \" + closest_column)"
   ]
  },
  {
   "cell_type": "markdown",
   "metadata": {},
   "source": [
    "Convertimos `Amphet` en una columna que nos dice si consumio o nunca ha consumido"
   ]
  },
  {
   "cell_type": "code",
   "execution_count": 5,
   "metadata": {},
   "outputs": [],
   "source": [
    "def clas_quant(value):\n",
    "    if(value == 0):\n",
    "        return 0\n",
    "    return 1\n",
    "\n",
    "dconsum[\"Amphet\"] = dconsum[\"Amphet\"].apply(clas_quant)"
   ]
  },
  {
   "cell_type": "markdown",
   "metadata": {},
   "source": [
    "## Modelos para la clasificacion de consumidores de Anfetaminas"
   ]
  },
  {
   "cell_type": "markdown",
   "metadata": {},
   "source": [
    "La premisa de nuestros modelos va a ser decidir si una persona es una potencial consumidora de anfetaminas en base a los datos proporcionados en `dconsum`, aplicando tambien un analisis estadistico.\n",
    "\n",
    "Para esto usaremos los siguientes modelos estadisticos\n",
    "- Regresion logistica\n",
    "- KNN\n",
    "- SVN\n",
    "- Discriminante Lineal\n",
    "\n",
    "Con las siguientes metricas de desempe;o\n",
    "- F1-Score\n",
    "- Recall\n",
    "- Accuracy"
   ]
  },
  {
   "cell_type": "markdown",
   "metadata": {},
   "source": [
    "Para esto es importante separar nuestras variables independientes y dependiente, ya que esto sera de utilidad en todos nuestros modelos"
   ]
  },
  {
   "cell_type": "code",
   "execution_count": 6,
   "metadata": {},
   "outputs": [],
   "source": [
    "X = dconsum.iloc[:, dconsum.columns != 'Amphet']\n",
    "X = X.apply(pd.to_numeric, errors='coerce')\n",
    "y = dconsum[\"Amphet\"]"
   ]
  },
  {
   "cell_type": "markdown",
   "metadata": {},
   "source": [
    "### Modelo de regresion logistica"
   ]
  },
  {
   "cell_type": "code",
   "execution_count": 7,
   "metadata": {},
   "outputs": [
    {
     "name": "stdout",
     "output_type": "stream",
     "text": [
      "\n",
      "Removing variable: Ketamine with p-value: 0.9624978842015395\n",
      "\n",
      "Removing variable: Mushrooms with p-value: 0.8488077845726834\n",
      "\n",
      "Removing variable: Choc with p-value: 0.7278496368496228\n",
      "\n",
      "Removing variable: Cscore with p-value: 0.706356703179222\n",
      "\n",
      "Removing variable: Ethnicity with p-value: 0.6177658196423559\n",
      "\n",
      "Removing variable: Country with p-value: 0.5915959757842223\n",
      "\n",
      "Removing variable: Legalh with p-value: 0.5059085488451457\n",
      "\n",
      "Removing variable: Semer with p-value: 0.29216048498571057\n",
      "\n",
      "Removing variable: Caff with p-value: 0.2629005672418857\n",
      "\n",
      "Removing variable: Oscore with p-value: 0.2510513176349809\n",
      "\n",
      "Removing variable: Nscore with p-value: 0.28973608892048563\n",
      "\n",
      "Removing variable: Impulsive with p-value: 0.19155162806876314\n",
      "\n",
      "Removing variable: Crack with p-value: 0.14143273238454224\n",
      "\n",
      "Removing variable: Education with p-value: 0.13438574325928687\n",
      "\n",
      "Removing variable: Gender with p-value: 0.16494458222569852\n",
      "\n",
      "Removing variable: Ascore with p-value: 0.18102545094719913\n",
      "\n",
      "Removing variable: VSA with p-value: 0.0931204200212815\n",
      "\n",
      "Removing variable: Escore with p-value: 0.05934385339632383\n"
     ]
    }
   ],
   "source": [
    "import statsmodels.api as sm\n",
    "\n",
    "def clean_dataset(X, y, threshold=0.05):\n",
    "    # Add a constant for the intercept term\n",
    "    X = sm.add_constant(X)\n",
    "    \n",
    "    # Get the p-values\n",
    "    model = sm.Logit(y, X).fit(disp=False)\n",
    "    p_values = model.pvalues.drop('const')\n",
    "    \n",
    "    # Loop to remove variables with p-values greater than the threshold\n",
    "    while p_values.max() > threshold:\n",
    "        to_drop = p_values.idxmax() #Drop the variable with the highest p-value\n",
    "        \n",
    "        print(f\"\\nRemoving variable: {to_drop} with p-value: {p_values.max()}\")\n",
    "        \n",
    "        # Remove the variable from the dataset\n",
    "        X = X.drop(columns=[to_drop])\n",
    "        \n",
    "        # Get the updated p-values\n",
    "        model = sm.Logit(y, X).fit(disp=False)\n",
    "        p_values = model.pvalues.drop('const')\n",
    "    \n",
    "    return X\n",
    "\n",
    "X_reduc = clean_dataset(X, y)\n"
   ]
  },
  {
   "cell_type": "markdown",
   "metadata": {},
   "source": [
    "A su vez dividimos los datasets en entrenamiento y pruebas, con una relacion 80-20"
   ]
  },
  {
   "cell_type": "code",
   "execution_count": 120,
   "metadata": {},
   "outputs": [],
   "source": [
    "from sklearn.model_selection import train_test_split\n",
    "X_train, X_test, y_train, y_test = train_test_split(X, y, test_size=0.2, random_state=45)"
   ]
  },
  {
   "cell_type": "markdown",
   "metadata": {},
   "source": [
    "Creamos el modelo"
   ]
  },
  {
   "cell_type": "code",
   "execution_count": 13,
   "metadata": {},
   "outputs": [
    {
     "data": {
      "text/plain": [
       "0.8196286472148541"
      ]
     },
     "execution_count": 13,
     "metadata": {},
     "output_type": "execute_result"
    }
   ],
   "source": [
    "from sklearn.linear_model import LogisticRegression\n",
    "from sklearn.metrics import accuracy_score, confusion_matrix, classification_report\n",
    "\n",
    "# Crear el modelo de regresión logística\n",
    "model = LogisticRegression()\n",
    "\n",
    "# Entrenar el modelo\n",
    "model.fit(X_train, y_train)\n",
    "\n",
    "# Hacer predicciones\n",
    "y_pred = model.predict(X_test)\n",
    "\n",
    "accuracy_score(y_test, y_pred) "
   ]
  },
  {
   "cell_type": "markdown",
   "metadata": {},
   "source": [
    "Metricas de desempe;o"
   ]
  },
  {
   "cell_type": "code",
   "execution_count": 122,
   "metadata": {},
   "outputs": [
    {
     "name": "stdout",
     "output_type": "stream",
     "text": [
      "              precision    recall  f1-score   support\n",
      "\n",
      "           0       0.89      0.78      0.83       217\n",
      "           1       0.75      0.87      0.80       160\n",
      "\n",
      "    accuracy                           0.82       377\n",
      "   macro avg       0.82      0.83      0.82       377\n",
      "weighted avg       0.83      0.82      0.82       377\n",
      "\n"
     ]
    }
   ],
   "source": [
    "print(classification_report(y_test, y_pred))"
   ]
  },
  {
   "cell_type": "markdown",
   "metadata": {},
   "source": [
    "Matriz de confusion"
   ]
  },
  {
   "cell_type": "code",
   "execution_count": 123,
   "metadata": {},
   "outputs": [
    {
     "data": {
      "text/plain": [
       "array([[170,  47],\n",
       "       [ 21, 139]])"
      ]
     },
     "execution_count": 123,
     "metadata": {},
     "output_type": "execute_result"
    }
   ],
   "source": [
    "confusion_matrix(y_test, y_pred)"
   ]
  },
  {
   "cell_type": "markdown",
   "metadata": {},
   "source": [
    "### Modelo de KNN"
   ]
  },
  {
   "cell_type": "code",
   "execution_count": 26,
   "metadata": {},
   "outputs": [
    {
     "name": "stdout",
     "output_type": "stream",
     "text": [
      "Eliminando característica: Oscore\n",
      "Eliminando característica: Nscore\n",
      "Eliminando característica: Ketamine\n",
      "Eliminando característica: Education\n",
      "Eliminando característica: Country\n",
      "Eliminando característica: Semer\n",
      "Eliminando característica: Ethnicity\n",
      "Eliminando característica: Crack\n",
      "Eliminando característica: Gender\n",
      "Eliminando característica: Heroin\n",
      "Eliminando característica: VSA\n",
      "Eliminando característica: Ascore\n",
      "Eliminando característica: Impulsive\n",
      "Eliminando característica: SS\n",
      "Eliminando característica: Alcohol\n",
      "Eliminando característica: Caff\n",
      "Eliminando característica: Escore\n",
      "Eliminando característica: Age\n",
      "Eliminando característica: Cscore\n",
      "Eliminando característica: Choc\n"
     ]
    }
   ],
   "source": [
    "from sklearn.model_selection import cross_val_score\n",
    "from sklearn.inspection import permutation_importance\n",
    "from sklearn.neighbors import KNeighborsClassifier\n",
    "import numpy as np\n",
    "\n",
    "def drop_least_important_features(X, y, n_neighbors=5, threshold=0.01):\n",
    "    knn = KNeighborsClassifier(n_neighbors=n_neighbors)\n",
    "    while True:\n",
    "        # Dividir los datos y entrenar el modelo\n",
    "        knn.fit(X, y)\n",
    "        \n",
    "        # Calcular importancia de las características mediante permutación\n",
    "        result = permutation_importance(knn, X, y, n_repeats=10, random_state=42, n_jobs=-1)\n",
    "        \n",
    "        # Obtener la importancia mínima\n",
    "        min_importance = result.importances_mean.min()\n",
    "        \n",
    "        # Si la importancia más baja es mayor que el umbral, detenemos\n",
    "        if min_importance > threshold:\n",
    "            break\n",
    "        \n",
    "        # Identificar y eliminar la característica menos importante\n",
    "        least_important_feature = X.columns[result.importances_mean.argmin()]\n",
    "        X = X.drop(columns=[least_important_feature])\n",
    "        print(f'Eliminando característica: {least_important_feature}')\n",
    "    \n",
    "    return X\n",
    "\n",
    "# Aplicar la función para eliminar características menos importantes\n",
    "X_reduced = drop_least_important_features(X, y)"
   ]
  },
  {
   "cell_type": "code",
   "execution_count": 27,
   "metadata": {},
   "outputs": [],
   "source": [
    "from sklearn.model_selection import train_test_split\n",
    "X_train, X_test, y_train, y_test = train_test_split(X_reduced, y, test_size=0.2, random_state=45)"
   ]
  },
  {
   "cell_type": "code",
   "execution_count": 25,
   "metadata": {},
   "outputs": [
    {
     "name": "stdout",
     "output_type": "stream",
     "text": [
      "Best k: 17 \n"
     ]
    },
    {
     "data": {
      "text/plain": [
       "0.8143236074270557"
      ]
     },
     "execution_count": 25,
     "metadata": {},
     "output_type": "execute_result"
    }
   ],
   "source": [
    "from sklearn.model_selection import GridSearchCV\n",
    "from sklearn.neighbors import KNeighborsClassifier\n",
    "from sklearn.metrics import accuracy_score, confusion_matrix, classification_report\n",
    "\n",
    "def find_best_k(X_train, X_test, y_train, y_test, k_range=range(1, 40), cv=2):\n",
    "    # Define the KNN model\n",
    "    knn = KNeighborsClassifier()\n",
    "\n",
    "    # Define the values of k to evaluate\n",
    "    param_grid = {'n_neighbors': list(k_range)}\n",
    "\n",
    "    # Use GridSearchCV to test the values of k\n",
    "    grid_search = GridSearchCV(knn, param_grid, cv=cv, scoring='accuracy')\n",
    "\n",
    "    # Fit the model to the training data\n",
    "    grid_search.fit(X_train, y_train)\n",
    "\n",
    "    # Get the best value of k\n",
    "    best_k = grid_search.best_params_['n_neighbors']\n",
    "\n",
    "    # Evaluate the model with the best number of neighbors\n",
    "    best_knn = grid_search.best_estimator_\n",
    "    y_pred = best_knn.predict(X_test)\n",
    "\n",
    "    # Print the accuracy of the model\n",
    "    accuracy = accuracy_score(y_test, y_pred)\n",
    "\n",
    "    return best_k, accuracy\n",
    "\n",
    "\n",
    "best_k, best_accuracy = find_best_k(X_train, X_test, y_train, y_test)\n",
    "\n",
    "knn = KNeighborsClassifier(n_neighbors=best_k)\n",
    "knn.fit(X_train, y_train)\n",
    "print(f'Best k: {best_k} ')\n",
    "accuracy_score(y_test, knn.predict(X_test))\n"
   ]
  },
  {
   "cell_type": "markdown",
   "metadata": {},
   "source": [
    "Metricas de desempe;o"
   ]
  },
  {
   "cell_type": "code",
   "execution_count": 15,
   "metadata": {},
   "outputs": [
    {
     "name": "stdout",
     "output_type": "stream",
     "text": [
      "              precision    recall  f1-score   support\n",
      "\n",
      "           0       0.89      0.78      0.83       217\n",
      "           1       0.75      0.87      0.80       160\n",
      "\n",
      "    accuracy                           0.82       377\n",
      "   macro avg       0.82      0.83      0.82       377\n",
      "weighted avg       0.83      0.82      0.82       377\n",
      "\n"
     ]
    }
   ],
   "source": [
    "print(classification_report(y_test, y_pred))"
   ]
  },
  {
   "cell_type": "markdown",
   "metadata": {},
   "source": [
    "Matriz de confusion"
   ]
  },
  {
   "cell_type": "code",
   "execution_count": 16,
   "metadata": {},
   "outputs": [
    {
     "data": {
      "text/plain": [
       "array([[170,  47],\n",
       "       [ 21, 139]])"
      ]
     },
     "execution_count": 16,
     "metadata": {},
     "output_type": "execute_result"
    }
   ],
   "source": [
    "confusion_matrix(y_test, y_pred)"
   ]
  },
  {
   "cell_type": "markdown",
   "metadata": {},
   "source": [
    "### Modelo de SVM"
   ]
  },
  {
   "cell_type": "code",
   "execution_count": 23,
   "metadata": {},
   "outputs": [
    {
     "name": "stdout",
     "output_type": "stream",
     "text": [
      "\n",
      "Removing variable: Ketamine with p-value: 0.9624978842015395\n",
      "\n",
      "Removing variable: Mushrooms with p-value: 0.8488077845726834\n",
      "\n",
      "Removing variable: Choc with p-value: 0.7278496368496228\n",
      "\n",
      "Removing variable: Cscore with p-value: 0.706356703179222\n",
      "\n",
      "Removing variable: Ethnicity with p-value: 0.6177658196423559\n",
      "\n",
      "Removing variable: Country with p-value: 0.5915959757842223\n",
      "\n",
      "Removing variable: Legalh with p-value: 0.5059085488451457\n",
      "\n",
      "Removing variable: Semer with p-value: 0.29216048498571057\n",
      "\n",
      "Removing variable: Caff with p-value: 0.2629005672418857\n",
      "\n",
      "Removing variable: Oscore with p-value: 0.2510513176349809\n",
      "\n",
      "Removing variable: Nscore with p-value: 0.28973608892048563\n",
      "\n",
      "Removing variable: Impulsive with p-value: 0.19155162806876314\n",
      "\n",
      "Removing variable: Crack with p-value: 0.14143273238454224\n",
      "\n",
      "Removing variable: Education with p-value: 0.13438574325928687\n",
      "\n",
      "Removing variable: Gender with p-value: 0.16494458222569852\n",
      "\n",
      "Removing variable: Ascore with p-value: 0.18102545094719913\n",
      "\n",
      "Removing variable: VSA with p-value: 0.0931204200212815\n",
      "\n",
      "Removing variable: Escore with p-value: 0.05934385339632383\n"
     ]
    }
   ],
   "source": [
    "X_reduc = clean_dataset(X, y)"
   ]
  },
  {
   "cell_type": "code",
   "execution_count": 11,
   "metadata": {},
   "outputs": [],
   "source": [
    "from sklearn.model_selection import train_test_split\n",
    "# Split the data into training and testing sets\n",
    "X_train, X_test, y_train, y_test = train_test_split(X_reduc, y, test_size=0.2, random_state=42)"
   ]
  },
  {
   "cell_type": "code",
   "execution_count": 22,
   "metadata": {},
   "outputs": [
    {
     "data": {
      "text/plain": [
       "0.8037135278514589"
      ]
     },
     "execution_count": 22,
     "metadata": {},
     "output_type": "execute_result"
    }
   ],
   "source": [
    "from sklearn.svm import SVC    \n",
    "from sklearn.metrics import accuracy_score, confusion_matrix, classification_report\n",
    "# Split the data into training and testing sets\n",
    "X_train, X_test, y_train, y_test = train_test_split(X, y, test_size=0.2, random_state=42)\n",
    "\n",
    "# Create the SVM model\n",
    "svm_model = SVC(kernel='linear', C=1)\n",
    "\n",
    "# Train the model\n",
    "svm_model.fit(X_train, y_train)\n",
    "\n",
    "# Make predictions\n",
    "y_pred = svm_model.predict(X_test)\n",
    "\n",
    "# Calculate the accuracy\n",
    "accuracy_score(y_test, y_pred)"
   ]
  },
  {
   "cell_type": "markdown",
   "metadata": {},
   "source": [
    "Metricas de desempe;o"
   ]
  },
  {
   "cell_type": "code",
   "execution_count": 23,
   "metadata": {},
   "outputs": [
    {
     "name": "stdout",
     "output_type": "stream",
     "text": [
      "              precision    recall  f1-score   support\n",
      "\n",
      "           0       0.78      0.87      0.82       196\n",
      "           1       0.84      0.73      0.78       181\n",
      "\n",
      "    accuracy                           0.80       377\n",
      "   macro avg       0.81      0.80      0.80       377\n",
      "weighted avg       0.81      0.80      0.80       377\n",
      "\n"
     ]
    }
   ],
   "source": [
    "print(classification_report(y_test, y_pred))"
   ]
  },
  {
   "cell_type": "markdown",
   "metadata": {},
   "source": [
    "Matriz de confusion"
   ]
  },
  {
   "cell_type": "code",
   "execution_count": 24,
   "metadata": {},
   "outputs": [
    {
     "data": {
      "text/plain": [
       "array([[170,  26],\n",
       "       [ 48, 133]])"
      ]
     },
     "execution_count": 24,
     "metadata": {},
     "output_type": "execute_result"
    }
   ],
   "source": [
    "confusion_matrix(y_test, y_pred)"
   ]
  },
  {
   "cell_type": "markdown",
   "metadata": {},
   "source": [
    "### Modelo de discriminante lineal"
   ]
  },
  {
   "cell_type": "code",
   "execution_count": 25,
   "metadata": {},
   "outputs": [
    {
     "data": {
      "text/plain": [
       "0.7851458885941645"
      ]
     },
     "execution_count": 25,
     "metadata": {},
     "output_type": "execute_result"
    }
   ],
   "source": [
    "from sklearn.discriminant_analysis import LinearDiscriminantAnalysis\n",
    "from sklearn.model_selection import train_test_split\n",
    "from sklearn.metrics import accuracy_score, confusion_matrix, classification_report\n",
    "\n",
    "\n",
    "# Dividir los datos en conjuntos de entrenamiento y prueba\n",
    "X_train, X_test, y_train, y_test = train_test_split(X_reduc, y, test_size=0.2, random_state=42)\n",
    "\n",
    "# Crear el modelo de análisis discriminante lineal\n",
    "lda = LinearDiscriminantAnalysis()\n",
    "\n",
    "# Entrenar el modelo\n",
    "lda.fit(X_train, y_train)\n",
    "\n",
    "# Hacer predicciones\n",
    "y_pred = lda.predict(X_test)\n",
    "\n",
    "# Calcular la precisión\n",
    "accuracy_score(y_test, y_pred)"
   ]
  },
  {
   "cell_type": "markdown",
   "metadata": {},
   "source": [
    "Metricas de desempe;o"
   ]
  },
  {
   "cell_type": "code",
   "execution_count": 26,
   "metadata": {},
   "outputs": [
    {
     "name": "stdout",
     "output_type": "stream",
     "text": [
      "              precision    recall  f1-score   support\n",
      "\n",
      "           0       0.77      0.84      0.80       196\n",
      "           1       0.81      0.72      0.76       181\n",
      "\n",
      "    accuracy                           0.79       377\n",
      "   macro avg       0.79      0.78      0.78       377\n",
      "weighted avg       0.79      0.79      0.78       377\n",
      "\n"
     ]
    }
   ],
   "source": [
    "print(classification_report(y_test, y_pred))"
   ]
  },
  {
   "cell_type": "markdown",
   "metadata": {},
   "source": [
    "Matriz de confusion"
   ]
  },
  {
   "cell_type": "code",
   "execution_count": 27,
   "metadata": {},
   "outputs": [
    {
     "data": {
      "text/plain": [
       "array([[165,  31],\n",
       "       [ 50, 131]])"
      ]
     },
     "execution_count": 27,
     "metadata": {},
     "output_type": "execute_result"
    }
   ],
   "source": [
    "confusion_matrix(y_test, y_pred)"
   ]
  }
 ],
 "metadata": {
  "kernelspec": {
   "display_name": "Models",
   "language": "python",
   "name": "python3"
  },
  "language_info": {
   "codemirror_mode": {
    "name": "ipython",
    "version": 3
   },
   "file_extension": ".py",
   "mimetype": "text/x-python",
   "name": "python",
   "nbconvert_exporter": "python",
   "pygments_lexer": "ipython3",
   "version": "3.12.7"
  }
 },
 "nbformat": 4,
 "nbformat_minor": 2
}
